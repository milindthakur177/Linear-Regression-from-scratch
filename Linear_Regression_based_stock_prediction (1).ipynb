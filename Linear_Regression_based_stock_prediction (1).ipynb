{
  "nbformat": 4,
  "nbformat_minor": 0,
  "metadata": {
    "colab": {
      "name": "Linear-Regression-based-stock-prediction.ipynb",
      "provenance": [],
      "collapsed_sections": []
    },
    "kernelspec": {
      "name": "python3",
      "display_name": "Python 3"
    }
  },
  "cells": [
    {
      "cell_type": "code",
      "metadata": {
        "id": "AqBYgWjZe0jM",
        "colab_type": "code",
        "colab": {}
      },
      "source": [
        "# Importing Required Libraries\n",
        "import numpy as np\n",
        "import pandas as pd\n",
        "import os\n",
        "import pandas_datareader as web\n",
        "import matplotlib.pyplot as plt\n",
        "from matplotlib import style\n",
        "import pickle\n",
        "from matplotlib import style"
      ],
      "execution_count": 89,
      "outputs": []
    },
    {
      "cell_type": "code",
      "metadata": {
        "id": "rS05LjGee2gF",
        "colab_type": "code",
        "colab": {}
      },
      "source": [
        "import requests\n",
        "from bs4 import BeautifulSoup"
      ],
      "execution_count": 90,
      "outputs": []
    },
    {
      "cell_type": "code",
      "metadata": {
        "id": "1ppWuNZ9faIp",
        "colab_type": "code",
        "colab": {}
      },
      "source": [
        "import datetime as dt"
      ],
      "execution_count": 91,
      "outputs": []
    },
    {
      "cell_type": "code",
      "metadata": {
        "id": "oAtKxtAgfEqB",
        "colab_type": "code",
        "colab": {}
      },
      "source": [
        "def savesp500tickers():\n",
        "  result= requests.get('https://en.wikipedia.org/wiki/List_of_S%26P_500_companies')\n",
        "  soup= BeautifulSoup(result.text,\"lxml\")\n",
        "  table=soup.find('table')\n",
        "  tickers=[]\n",
        "  company=[]\n",
        "\n",
        "  for row in table.find_all('tr')[1:]:\n",
        "    ticker= row.find_all('td')[0].text\n",
        "    stock= row.find_all('td')[1].text\n",
        "    tickers.append(ticker)\n",
        "    company.append(stock)\n",
        "\n",
        "  with open(\"sp500ticker.pickle\",\"wb\") as f:\n",
        "    pickle.dump(tickers,f)\n",
        "\n",
        "  with open(\"sp500company.pickle\",\"wb\") as f:\n",
        "    pickle.dump(company,f)\n",
        "  \n",
        "  for i in range(0,len(tickers)):\n",
        "    print(tickers[i],\"is the symbol for\",company[i])\n",
        "  \n"
      ],
      "execution_count": 92,
      "outputs": []
    },
    {
      "cell_type": "code",
      "metadata": {
        "id": "BTS_PzcofLOJ",
        "colab_type": "code",
        "colab": {
          "base_uri": "https://localhost:8080/",
          "height": 1000
        },
        "outputId": "49970f10-0012-46c1-c2f9-e1f2cafe34d9"
      },
      "source": [
        "savesp500tickers()"
      ],
      "execution_count": 93,
      "outputs": [
        {
          "output_type": "stream",
          "text": [
            "MMM\n",
            " is the symbol for 3M Company\n",
            "ABT\n",
            " is the symbol for Abbott Laboratories\n",
            "ABBV\n",
            " is the symbol for AbbVie Inc.\n",
            "ABMD\n",
            " is the symbol for ABIOMED Inc\n",
            "ACN\n",
            " is the symbol for Accenture plc\n",
            "ATVI\n",
            " is the symbol for Activision Blizzard\n",
            "ADBE\n",
            " is the symbol for Adobe Inc.\n",
            "AMD\n",
            " is the symbol for Advanced Micro Devices Inc\n",
            "AAP\n",
            " is the symbol for Advance Auto Parts\n",
            "AES\n",
            " is the symbol for AES Corp\n",
            "AFL\n",
            " is the symbol for AFLAC Inc\n",
            "A\n",
            " is the symbol for Agilent Technologies Inc\n",
            "APD\n",
            " is the symbol for Air Products & Chemicals Inc\n",
            "AKAM\n",
            " is the symbol for Akamai Technologies Inc\n",
            "ALK\n",
            " is the symbol for Alaska Air Group Inc\n",
            "ALB\n",
            " is the symbol for Albemarle Corp\n",
            "ARE\n",
            " is the symbol for Alexandria Real Estate Equities\n",
            "ALXN\n",
            " is the symbol for Alexion Pharmaceuticals\n",
            "ALGN\n",
            " is the symbol for Align Technology\n",
            "ALLE\n",
            " is the symbol for Allegion\n",
            "ADS\n",
            " is the symbol for Alliance Data Systems\n",
            "LNT\n",
            " is the symbol for Alliant Energy Corp\n",
            "ALL\n",
            " is the symbol for Allstate Corp\n",
            "GOOGL\n",
            " is the symbol for Alphabet Inc. (Class A)\n",
            "GOOG\n",
            " is the symbol for Alphabet Inc. (Class C)\n",
            "MO\n",
            " is the symbol for Altria Group Inc\n",
            "AMZN\n",
            " is the symbol for Amazon.com Inc.\n",
            "AMCR\n",
            " is the symbol for Amcor plc\n",
            "AEE\n",
            " is the symbol for Ameren Corp\n",
            "AAL\n",
            " is the symbol for American Airlines Group\n",
            "AEP\n",
            " is the symbol for American Electric Power\n",
            "AXP\n",
            " is the symbol for American Express Co\n",
            "AIG\n",
            " is the symbol for American International Group\n",
            "AMT\n",
            " is the symbol for American Tower Corp.\n",
            "AWK\n",
            " is the symbol for American Water Works Company Inc\n",
            "AMP\n",
            " is the symbol for Ameriprise Financial\n",
            "ABC\n",
            " is the symbol for AmerisourceBergen Corp\n",
            "AME\n",
            " is the symbol for AMETEK Inc.\n",
            "AMGN\n",
            " is the symbol for Amgen Inc.\n",
            "APH\n",
            " is the symbol for Amphenol Corp\n",
            "ADI\n",
            " is the symbol for Analog Devices, Inc.\n",
            "ANSS\n",
            " is the symbol for ANSYS\n",
            "ANTM\n",
            " is the symbol for Anthem\n",
            "AON\n",
            " is the symbol for Aon plc\n",
            "AOS\n",
            " is the symbol for A.O. Smith Corp\n",
            "APA\n",
            " is the symbol for Apache Corporation\n",
            "AIV\n",
            " is the symbol for Apartment Investment & Management\n",
            "AAPL\n",
            " is the symbol for Apple Inc.\n",
            "AMAT\n",
            " is the symbol for Applied Materials Inc.\n",
            "APTV\n",
            " is the symbol for Aptiv PLC\n",
            "ADM\n",
            " is the symbol for Archer-Daniels-Midland Co\n",
            "ANET\n",
            " is the symbol for Arista Networks\n",
            "AJG\n",
            " is the symbol for Arthur J. Gallagher & Co.\n",
            "AIZ\n",
            " is the symbol for Assurant\n",
            "T\n",
            " is the symbol for AT&T Inc.\n",
            "ATO\n",
            " is the symbol for Atmos Energy\n",
            "ADSK\n",
            " is the symbol for Autodesk Inc.\n",
            "ADP\n",
            " is the symbol for Automatic Data Processing\n",
            "AZO\n",
            " is the symbol for AutoZone Inc\n",
            "AVB\n",
            " is the symbol for AvalonBay Communities\n",
            "AVY\n",
            " is the symbol for Avery Dennison Corp\n",
            "BKR\n",
            " is the symbol for Baker Hughes Co\n",
            "BLL\n",
            " is the symbol for Ball Corp\n",
            "BAC\n",
            " is the symbol for Bank of America Corp\n",
            "BK\n",
            " is the symbol for The Bank of New York Mellon\n",
            "BAX\n",
            " is the symbol for Baxter International Inc.\n",
            "BDX\n",
            " is the symbol for Becton Dickinson\n",
            "BRK.B\n",
            " is the symbol for Berkshire Hathaway\n",
            "BBY\n",
            " is the symbol for Best Buy Co. Inc.\n",
            "BIIB\n",
            " is the symbol for Biogen Inc.\n",
            "BLK\n",
            " is the symbol for BlackRock\n",
            "BA\n",
            " is the symbol for Boeing Company\n",
            "BKNG\n",
            " is the symbol for Booking Holdings Inc\n",
            "BWA\n",
            " is the symbol for BorgWarner\n",
            "BXP\n",
            " is the symbol for Boston Properties\n",
            "BSX\n",
            " is the symbol for Boston Scientific\n",
            "BMY\n",
            " is the symbol for Bristol-Myers Squibb\n",
            "AVGO\n",
            " is the symbol for Broadcom Inc.\n",
            "BR\n",
            " is the symbol for Broadridge Financial Solutions\n",
            "BF.B\n",
            " is the symbol for Brown-Forman Corp.\n",
            "CHRW\n",
            " is the symbol for C. H. Robinson Worldwide\n",
            "COG\n",
            " is the symbol for Cabot Oil & Gas\n",
            "CDNS\n",
            " is the symbol for Cadence Design Systems\n",
            "CPB\n",
            " is the symbol for Campbell Soup\n",
            "COF\n",
            " is the symbol for Capital One Financial\n",
            "CAH\n",
            " is the symbol for Cardinal Health Inc.\n",
            "KMX\n",
            " is the symbol for Carmax Inc\n",
            "CCL\n",
            " is the symbol for Carnival Corp.\n",
            "CARR\n",
            " is the symbol for Carrier Global\n",
            "CAT\n",
            " is the symbol for Caterpillar Inc.\n",
            "CBOE\n",
            " is the symbol for Cboe Global Markets\n",
            "CBRE\n",
            " is the symbol for CBRE Group\n",
            "CDW\n",
            " is the symbol for CDW\n",
            "CE\n",
            " is the symbol for Celanese\n",
            "CNC\n",
            " is the symbol for Centene Corporation\n",
            "CNP\n",
            " is the symbol for CenterPoint Energy\n",
            "CTL\n",
            " is the symbol for CenturyLink Inc\n",
            "CERN\n",
            " is the symbol for Cerner\n",
            "CF\n",
            " is the symbol for CF Industries Holdings Inc\n",
            "SCHW\n",
            " is the symbol for Charles Schwab Corporation\n",
            "CHTR\n",
            " is the symbol for Charter Communications\n",
            "CVX\n",
            " is the symbol for Chevron Corp.\n",
            "CMG\n",
            " is the symbol for Chipotle Mexican Grill\n",
            "CB\n",
            " is the symbol for Chubb Limited\n",
            "CHD\n",
            " is the symbol for Church & Dwight\n",
            "CI\n",
            " is the symbol for CIGNA Corp.\n",
            "CINF\n",
            " is the symbol for Cincinnati Financial\n",
            "CTAS\n",
            " is the symbol for Cintas Corporation\n",
            "CSCO\n",
            " is the symbol for Cisco Systems\n",
            "C\n",
            " is the symbol for Citigroup Inc.\n",
            "CFG\n",
            " is the symbol for Citizens Financial Group\n",
            "CTXS\n",
            " is the symbol for Citrix Systems\n",
            "CLX\n",
            " is the symbol for The Clorox Company\n",
            "CME\n",
            " is the symbol for CME Group Inc.\n",
            "CMS\n",
            " is the symbol for CMS Energy\n",
            "KO\n",
            " is the symbol for Coca-Cola Company\n",
            "CTSH\n",
            " is the symbol for Cognizant Technology Solutions\n",
            "CL\n",
            " is the symbol for Colgate-Palmolive\n",
            "CMCSA\n",
            " is the symbol for Comcast Corp.\n",
            "CMA\n",
            " is the symbol for Comerica Inc.\n",
            "CAG\n",
            " is the symbol for Conagra Brands\n",
            "CXO\n",
            " is the symbol for Concho Resources\n",
            "COP\n",
            " is the symbol for ConocoPhillips\n",
            "ED\n",
            " is the symbol for Consolidated Edison\n",
            "STZ\n",
            " is the symbol for Constellation Brands\n",
            "COO\n",
            " is the symbol for The Cooper Companies\n",
            "CPRT\n",
            " is the symbol for Copart Inc\n",
            "GLW\n",
            " is the symbol for Corning Inc.\n",
            "CTVA\n",
            " is the symbol for Corteva\n",
            "COST\n",
            " is the symbol for Costco Wholesale Corp.\n",
            "COTY\n",
            " is the symbol for Coty, Inc\n",
            "CCI\n",
            " is the symbol for Crown Castle International Corp.\n",
            "CSX\n",
            " is the symbol for CSX Corp.\n",
            "CMI\n",
            " is the symbol for Cummins Inc.\n",
            "CVS\n",
            " is the symbol for CVS Health\n",
            "DHI\n",
            " is the symbol for D. R. Horton\n",
            "DHR\n",
            " is the symbol for Danaher Corp.\n",
            "DRI\n",
            " is the symbol for Darden Restaurants\n",
            "DVA\n",
            " is the symbol for DaVita Inc.\n",
            "DE\n",
            " is the symbol for Deere & Co.\n",
            "DAL\n",
            " is the symbol for Delta Air Lines Inc.\n",
            "XRAY\n",
            " is the symbol for Dentsply Sirona\n",
            "DVN\n",
            " is the symbol for Devon Energy\n",
            "DXCM\n",
            " is the symbol for DexCom\n",
            "FANG\n",
            " is the symbol for Diamondback Energy\n",
            "DLR\n",
            " is the symbol for Digital Realty Trust Inc\n",
            "DFS\n",
            " is the symbol for Discover Financial Services\n",
            "DISCA\n",
            " is the symbol for Discovery, Inc. (Class A)\n",
            "DISCK\n",
            " is the symbol for Discovery, Inc. (Class C)\n",
            "DISH\n",
            " is the symbol for Dish Network\n",
            "DG\n",
            " is the symbol for Dollar General\n",
            "DLTR\n",
            " is the symbol for Dollar Tree\n",
            "D\n",
            " is the symbol for Dominion Energy\n",
            "DPZ\n",
            " is the symbol for Domino's Pizza\n",
            "DOV\n",
            " is the symbol for Dover Corporation\n",
            "DOW\n",
            " is the symbol for Dow Inc.\n",
            "DTE\n",
            " is the symbol for DTE Energy Co.\n",
            "DUK\n",
            " is the symbol for Duke Energy\n",
            "DRE\n",
            " is the symbol for Duke Realty Corp\n",
            "DD\n",
            " is the symbol for DuPont de Nemours Inc\n",
            "DXC\n",
            " is the symbol for DXC Technology\n",
            "ETFC\n",
            " is the symbol for E*Trade\n",
            "EMN\n",
            " is the symbol for Eastman Chemical\n",
            "ETN\n",
            " is the symbol for Eaton Corporation\n",
            "EBAY\n",
            " is the symbol for eBay Inc.\n",
            "ECL\n",
            " is the symbol for Ecolab Inc.\n",
            "EIX\n",
            " is the symbol for Edison Int'l\n",
            "EW\n",
            " is the symbol for Edwards Lifesciences\n",
            "EA\n",
            " is the symbol for Electronic Arts\n",
            "EMR\n",
            " is the symbol for Emerson Electric Company\n",
            "ETR\n",
            " is the symbol for Entergy Corp.\n",
            "EOG\n",
            " is the symbol for EOG Resources\n",
            "EFX\n",
            " is the symbol for Equifax Inc.\n",
            "EQIX\n",
            " is the symbol for Equinix\n",
            "EQR\n",
            " is the symbol for Equity Residential\n",
            "ESS\n",
            " is the symbol for Essex Property Trust, Inc.\n",
            "EL\n",
            " is the symbol for Estée Lauder Companies\n",
            "EVRG\n",
            " is the symbol for Evergy\n",
            "ES\n",
            " is the symbol for Eversource Energy\n",
            "RE\n",
            " is the symbol for Everest Re Group Ltd.\n",
            "EXC\n",
            " is the symbol for Exelon Corp.\n",
            "EXPE\n",
            " is the symbol for Expedia Group\n",
            "EXPD\n",
            " is the symbol for Expeditors\n",
            "EXR\n",
            " is the symbol for Extra Space Storage\n",
            "XOM\n",
            " is the symbol for Exxon Mobil Corp.\n",
            "FFIV\n",
            " is the symbol for F5 Networks\n",
            "FB\n",
            " is the symbol for Facebook, Inc.\n",
            "FAST\n",
            " is the symbol for Fastenal Co\n",
            "FRT\n",
            " is the symbol for Federal Realty Investment Trust\n",
            "FDX\n",
            " is the symbol for FedEx Corporation\n",
            "FIS\n",
            " is the symbol for Fidelity National Information Services\n",
            "FITB\n",
            " is the symbol for Fifth Third Bancorp\n",
            "FE\n",
            " is the symbol for FirstEnergy Corp\n",
            "FRC\n",
            " is the symbol for First Republic Bank\n",
            "FISV\n",
            " is the symbol for Fiserv Inc\n",
            "FLT\n",
            " is the symbol for FleetCor Technologies Inc\n",
            "FLIR\n",
            " is the symbol for FLIR Systems\n",
            "FLS\n",
            " is the symbol for Flowserve Corporation\n",
            "FMC\n",
            " is the symbol for FMC Corporation\n",
            "F\n",
            " is the symbol for Ford Motor Company\n",
            "FTNT\n",
            " is the symbol for Fortinet\n",
            "FTV\n",
            " is the symbol for Fortive Corp\n",
            "FBHS\n",
            " is the symbol for Fortune Brands Home & Security\n",
            "FOXA\n",
            " is the symbol for Fox Corporation (Class A)\n",
            "FOX\n",
            " is the symbol for Fox Corporation (Class B)\n",
            "BEN\n",
            " is the symbol for Franklin Resources\n",
            "FCX\n",
            " is the symbol for Freeport-McMoRan Inc.\n",
            "GPS\n",
            " is the symbol for Gap Inc.\n",
            "GRMN\n",
            " is the symbol for Garmin Ltd.\n",
            "IT\n",
            " is the symbol for Gartner Inc\n",
            "GD\n",
            " is the symbol for General Dynamics\n",
            "GE\n",
            " is the symbol for General Electric\n",
            "GIS\n",
            " is the symbol for General Mills\n",
            "GM\n",
            " is the symbol for General Motors\n",
            "GPC\n",
            " is the symbol for Genuine Parts\n",
            "GILD\n",
            " is the symbol for Gilead Sciences\n",
            "GL\n",
            " is the symbol for Globe Life Inc.\n",
            "GPN\n",
            " is the symbol for Global Payments Inc.\n",
            "GS\n",
            " is the symbol for Goldman Sachs Group\n",
            "GWW\n",
            " is the symbol for Grainger (W.W.) Inc.\n",
            "HRB\n",
            " is the symbol for H&R Block\n",
            "HAL\n",
            " is the symbol for Halliburton Co.\n",
            "HBI\n",
            " is the symbol for Hanesbrands Inc\n",
            "HOG\n",
            " is the symbol for Harley-Davidson\n",
            "HIG\n",
            " is the symbol for Hartford Financial Svc.Gp.\n",
            "HAS\n",
            " is the symbol for Hasbro Inc.\n",
            "HCA\n",
            " is the symbol for HCA Healthcare\n",
            "PEAK\n",
            " is the symbol for Healthpeak Properties\n",
            "HSIC\n",
            " is the symbol for Henry Schein\n",
            "HSY\n",
            " is the symbol for The Hershey Company\n",
            "HES\n",
            " is the symbol for Hess Corporation\n",
            "HPE\n",
            " is the symbol for Hewlett Packard Enterprise\n",
            "HLT\n",
            " is the symbol for Hilton Worldwide Holdings Inc\n",
            "HFC\n",
            " is the symbol for HollyFrontier Corp\n",
            "HOLX\n",
            " is the symbol for Hologic\n",
            "HD\n",
            " is the symbol for Home Depot\n",
            "HON\n",
            " is the symbol for Honeywell Int'l Inc.\n",
            "HRL\n",
            " is the symbol for Hormel Foods Corp.\n",
            "HST\n",
            " is the symbol for Host Hotels & Resorts\n",
            "HWM\n",
            " is the symbol for Howmet Aerospace\n",
            "HPQ\n",
            " is the symbol for HP Inc.\n",
            "HUM\n",
            " is the symbol for Humana Inc.\n",
            "HBAN\n",
            " is the symbol for Huntington Bancshares\n",
            "HII\n",
            " is the symbol for Huntington Ingalls Industries\n",
            "IEX\n",
            " is the symbol for IDEX Corporation\n",
            "IDXX\n",
            " is the symbol for IDEXX Laboratories\n",
            "INFO\n",
            " is the symbol for IHS Markit Ltd.\n",
            "ITW\n",
            " is the symbol for Illinois Tool Works\n",
            "ILMN\n",
            " is the symbol for Illumina Inc\n",
            "INCY\n",
            " is the symbol for Incyte\n",
            "IR\n",
            " is the symbol for Ingersoll Rand\n",
            "INTC\n",
            " is the symbol for Intel Corp.\n",
            "ICE\n",
            " is the symbol for Intercontinental Exchange\n",
            "IBM\n",
            " is the symbol for International Business Machines\n",
            "IP\n",
            " is the symbol for International Paper\n",
            "IPG\n",
            " is the symbol for Interpublic Group\n",
            "IFF\n",
            " is the symbol for Intl Flavors & Fragrances\n",
            "INTU\n",
            " is the symbol for Intuit Inc.\n",
            "ISRG\n",
            " is the symbol for Intuitive Surgical Inc.\n",
            "IVZ\n",
            " is the symbol for Invesco Ltd.\n",
            "IPGP\n",
            " is the symbol for IPG Photonics Corp.\n",
            "IQV\n",
            " is the symbol for IQVIA Holdings Inc.\n",
            "IRM\n",
            " is the symbol for Iron Mountain Incorporated\n",
            "JKHY\n",
            " is the symbol for Jack Henry & Associates\n",
            "J\n",
            " is the symbol for Jacobs Engineering Group\n",
            "JBHT\n",
            " is the symbol for J. B. Hunt Transport Services\n",
            "SJM\n",
            " is the symbol for JM Smucker\n",
            "JNJ\n",
            " is the symbol for Johnson & Johnson\n",
            "JCI\n",
            " is the symbol for Johnson Controls International\n",
            "JPM\n",
            " is the symbol for JPMorgan Chase & Co.\n",
            "JNPR\n",
            " is the symbol for Juniper Networks\n",
            "KSU\n",
            " is the symbol for Kansas City Southern\n",
            "K\n",
            " is the symbol for Kellogg Co.\n",
            "KEY\n",
            " is the symbol for KeyCorp\n",
            "KEYS\n",
            " is the symbol for Keysight Technologies\n",
            "KMB\n",
            " is the symbol for Kimberly-Clark\n",
            "KIM\n",
            " is the symbol for Kimco Realty\n",
            "KMI\n",
            " is the symbol for Kinder Morgan\n",
            "KLAC\n",
            " is the symbol for KLA Corporation\n",
            "KSS\n",
            " is the symbol for Kohl's Corp.\n",
            "KHC\n",
            " is the symbol for Kraft Heinz Co\n",
            "KR\n",
            " is the symbol for Kroger Co.\n",
            "LB\n",
            " is the symbol for L Brands Inc.\n",
            "LHX\n",
            " is the symbol for L3Harris Technologies\n",
            "LH\n",
            " is the symbol for Laboratory Corp. of America Holding\n",
            "LRCX\n",
            " is the symbol for Lam Research\n",
            "LW\n",
            " is the symbol for Lamb Weston Holdings Inc\n",
            "LVS\n",
            " is the symbol for Las Vegas Sands\n",
            "LEG\n",
            " is the symbol for Leggett & Platt\n",
            "LDOS\n",
            " is the symbol for Leidos Holdings\n",
            "LEN\n",
            " is the symbol for Lennar Corp.\n",
            "LLY\n",
            " is the symbol for Lilly (Eli) & Co.\n",
            "LNC\n",
            " is the symbol for Lincoln National\n",
            "LIN\n",
            " is the symbol for Linde plc\n",
            "LYV\n",
            " is the symbol for Live Nation Entertainment\n",
            "LKQ\n",
            " is the symbol for LKQ Corporation\n",
            "LMT\n",
            " is the symbol for Lockheed Martin Corp.\n",
            "L\n",
            " is the symbol for Loews Corp.\n",
            "LOW\n",
            " is the symbol for Lowe's Cos.\n",
            "LYB\n",
            " is the symbol for LyondellBasell\n",
            "MTB\n",
            " is the symbol for M&T Bank Corp.\n",
            "MRO\n",
            " is the symbol for Marathon Oil Corp.\n",
            "MPC\n",
            " is the symbol for Marathon Petroleum\n",
            "MKTX\n",
            " is the symbol for MarketAxess\n",
            "MAR\n",
            " is the symbol for Marriott Int'l.\n",
            "MMC\n",
            " is the symbol for Marsh & McLennan\n",
            "MLM\n",
            " is the symbol for Martin Marietta Materials\n",
            "MAS\n",
            " is the symbol for Masco Corp.\n",
            "MA\n",
            " is the symbol for Mastercard Inc.\n",
            "MKC\n",
            " is the symbol for McCormick & Co.\n",
            "MXIM\n",
            " is the symbol for Maxim Integrated Products Inc\n",
            "MCD\n",
            " is the symbol for McDonald's Corp.\n",
            "MCK\n",
            " is the symbol for McKesson Corp.\n",
            "MDT\n",
            " is the symbol for Medtronic plc\n",
            "MRK\n",
            " is the symbol for Merck & Co.\n",
            "MET\n",
            " is the symbol for MetLife Inc.\n",
            "MTD\n",
            " is the symbol for Mettler Toledo\n",
            "MGM\n",
            " is the symbol for MGM Resorts International\n",
            "MCHP\n",
            " is the symbol for Microchip Technology\n",
            "MU\n",
            " is the symbol for Micron Technology\n",
            "MSFT\n",
            " is the symbol for Microsoft Corp.\n",
            "MAA\n",
            " is the symbol for Mid-America Apartments\n",
            "MHK\n",
            " is the symbol for Mohawk Industries\n",
            "TAP\n",
            " is the symbol for Molson Coors Brewing Company\n",
            "MDLZ\n",
            " is the symbol for Mondelez International\n",
            "MNST\n",
            " is the symbol for Monster Beverage\n",
            "MCO\n",
            " is the symbol for Moody's Corp\n",
            "MS\n",
            " is the symbol for Morgan Stanley\n",
            "MOS\n",
            " is the symbol for The Mosaic Company\n",
            "MSI\n",
            " is the symbol for Motorola Solutions Inc.\n",
            "MSCI\n",
            " is the symbol for MSCI Inc\n",
            "MYL\n",
            " is the symbol for Mylan N.V.\n",
            "NDAQ\n",
            " is the symbol for Nasdaq, Inc.\n",
            "NOV\n",
            " is the symbol for National Oilwell Varco Inc.\n",
            "NTAP\n",
            " is the symbol for NetApp\n",
            "NFLX\n",
            " is the symbol for Netflix Inc.\n",
            "NWL\n",
            " is the symbol for Newell Brands\n",
            "NEM\n",
            " is the symbol for Newmont Corporation\n",
            "NWSA\n",
            " is the symbol for News Corp. Class A\n",
            "NWS\n",
            " is the symbol for News Corp. Class B\n",
            "NEE\n",
            " is the symbol for NextEra Energy\n",
            "NLSN\n",
            " is the symbol for Nielsen Holdings\n",
            "NKE\n",
            " is the symbol for Nike\n",
            "NI\n",
            " is the symbol for NiSource Inc.\n",
            "NBL\n",
            " is the symbol for Noble Energy Inc\n",
            "JWN\n",
            " is the symbol for Nordstrom\n",
            "NSC\n",
            " is the symbol for Norfolk Southern Corp.\n",
            "NTRS\n",
            " is the symbol for Northern Trust Corp.\n",
            "NOC\n",
            " is the symbol for Northrop Grumman\n",
            "NLOK\n",
            " is the symbol for NortonLifeLock\n",
            "NCLH\n",
            " is the symbol for Norwegian Cruise Line Holdings\n",
            "NRG\n",
            " is the symbol for NRG Energy\n",
            "NUE\n",
            " is the symbol for Nucor Corp.\n",
            "NVDA\n",
            " is the symbol for Nvidia Corporation\n",
            "NVR\n",
            " is the symbol for NVR Inc\n",
            "ORLY\n",
            " is the symbol for O'Reilly Automotive\n",
            "OXY\n",
            " is the symbol for Occidental Petroleum\n",
            "ODFL\n",
            " is the symbol for Old Dominion Freight Line\n",
            "OMC\n",
            " is the symbol for Omnicom Group\n",
            "OKE\n",
            " is the symbol for ONEOK\n",
            "ORCL\n",
            " is the symbol for Oracle Corp.\n",
            "OTIS\n",
            " is the symbol for Otis Worldwide\n",
            "PCAR\n",
            " is the symbol for PACCAR Inc.\n",
            "PKG\n",
            " is the symbol for Packaging Corporation of America\n",
            "PH\n",
            " is the symbol for Parker-Hannifin\n",
            "PAYX\n",
            " is the symbol for Paychex Inc.\n",
            "PAYC\n",
            " is the symbol for Paycom\n",
            "PYPL\n",
            " is the symbol for PayPal\n",
            "PNR\n",
            " is the symbol for Pentair plc\n",
            "PBCT\n",
            " is the symbol for People's United Financial\n",
            "PEP\n",
            " is the symbol for PepsiCo Inc.\n",
            "PKI\n",
            " is the symbol for PerkinElmer\n",
            "PRGO\n",
            " is the symbol for Perrigo\n",
            "PFE\n",
            " is the symbol for Pfizer Inc.\n",
            "PM\n",
            " is the symbol for Philip Morris International\n",
            "PSX\n",
            " is the symbol for Phillips 66\n",
            "PNW\n",
            " is the symbol for Pinnacle West Capital\n",
            "PXD\n",
            " is the symbol for Pioneer Natural Resources\n",
            "PNC\n",
            " is the symbol for PNC Financial Services\n",
            "PPG\n",
            " is the symbol for PPG Industries\n",
            "PPL\n",
            " is the symbol for PPL Corp.\n",
            "PFG\n",
            " is the symbol for Principal Financial Group\n",
            "PG\n",
            " is the symbol for Procter & Gamble\n",
            "PGR\n",
            " is the symbol for Progressive Corp.\n",
            "PLD\n",
            " is the symbol for Prologis\n",
            "PRU\n",
            " is the symbol for Prudential Financial\n",
            "PEG\n",
            " is the symbol for Public Serv. Enterprise Inc.\n",
            "PSA\n",
            " is the symbol for Public Storage\n",
            "PHM\n",
            " is the symbol for PulteGroup\n",
            "PVH\n",
            " is the symbol for PVH Corp.\n",
            "QRVO\n",
            " is the symbol for Qorvo\n",
            "PWR\n",
            " is the symbol for Quanta Services Inc.\n",
            "QCOM\n",
            " is the symbol for QUALCOMM Inc.\n",
            "DGX\n",
            " is the symbol for Quest Diagnostics\n",
            "RL\n",
            " is the symbol for Ralph Lauren Corporation\n",
            "RJF\n",
            " is the symbol for Raymond James Financial Inc.\n",
            "RTX\n",
            " is the symbol for Raytheon Technologies\n",
            "O\n",
            " is the symbol for Realty Income Corporation\n",
            "REG\n",
            " is the symbol for Regency Centers Corporation\n",
            "REGN\n",
            " is the symbol for Regeneron Pharmaceuticals\n",
            "RF\n",
            " is the symbol for Regions Financial Corp.\n",
            "RSG\n",
            " is the symbol for Republic Services Inc\n",
            "RMD\n",
            " is the symbol for ResMed\n",
            "RHI\n",
            " is the symbol for Robert Half International\n",
            "ROK\n",
            " is the symbol for Rockwell Automation Inc.\n",
            "ROL\n",
            " is the symbol for Rollins Inc.\n",
            "ROP\n",
            " is the symbol for Roper Technologies\n",
            "ROST\n",
            " is the symbol for Ross Stores\n",
            "RCL\n",
            " is the symbol for Royal Caribbean Cruises Ltd\n",
            "SPGI\n",
            " is the symbol for S&P Global, Inc.\n",
            "CRM\n",
            " is the symbol for Salesforce.com\n",
            "SBAC\n",
            " is the symbol for SBA Communications\n",
            "SLB\n",
            " is the symbol for Schlumberger Ltd.\n",
            "STX\n",
            " is the symbol for Seagate Technology\n",
            "SEE\n",
            " is the symbol for Sealed Air\n",
            "SRE\n",
            " is the symbol for Sempra Energy\n",
            "NOW\n",
            " is the symbol for ServiceNow\n",
            "SHW\n",
            " is the symbol for Sherwin-Williams\n",
            "SPG\n",
            " is the symbol for Simon Property Group Inc\n",
            "SWKS\n",
            " is the symbol for Skyworks Solutions\n",
            "SLG\n",
            " is the symbol for SL Green Realty\n",
            "SNA\n",
            " is the symbol for Snap-on\n",
            "SO\n",
            " is the symbol for Southern Company\n",
            "LUV\n",
            " is the symbol for Southwest Airlines\n",
            "SWK\n",
            " is the symbol for Stanley Black & Decker\n",
            "SBUX\n",
            " is the symbol for Starbucks Corp.\n",
            "STT\n",
            " is the symbol for State Street Corp.\n",
            "STE\n",
            " is the symbol for STERIS plc\n",
            "SYK\n",
            " is the symbol for Stryker Corp.\n",
            "SIVB\n",
            " is the symbol for SVB Financial\n",
            "SYF\n",
            " is the symbol for Synchrony Financial\n",
            "SNPS\n",
            " is the symbol for Synopsys Inc.\n",
            "SYY\n",
            " is the symbol for Sysco Corp.\n",
            "TMUS\n",
            " is the symbol for T-Mobile US\n",
            "TROW\n",
            " is the symbol for T. Rowe Price Group\n",
            "TTWO\n",
            " is the symbol for Take-Two Interactive\n",
            "TPR\n",
            " is the symbol for Tapestry, Inc.\n",
            "TGT\n",
            " is the symbol for Target Corp.\n",
            "TEL\n",
            " is the symbol for TE Connectivity Ltd.\n",
            "FTI\n",
            " is the symbol for TechnipFMC\n",
            "TFX\n",
            " is the symbol for Teleflex\n",
            "TXN\n",
            " is the symbol for Texas Instruments\n",
            "TXT\n",
            " is the symbol for Textron Inc.\n",
            "TMO\n",
            " is the symbol for Thermo Fisher Scientific\n",
            "TIF\n",
            " is the symbol for Tiffany & Co.\n",
            "TJX\n",
            " is the symbol for TJX Companies Inc.\n",
            "TSCO\n",
            " is the symbol for Tractor Supply Company\n",
            "TT\n",
            " is the symbol for Trane Technologies plc\n",
            "TDG\n",
            " is the symbol for TransDigm Group\n",
            "TRV\n",
            " is the symbol for The Travelers Companies Inc.\n",
            "TFC\n",
            " is the symbol for Truist Financial\n",
            "TWTR\n",
            " is the symbol for Twitter, Inc.\n",
            "TSN\n",
            " is the symbol for Tyson Foods\n",
            "UDR\n",
            " is the symbol for UDR, Inc.\n",
            "ULTA\n",
            " is the symbol for Ulta Beauty\n",
            "USB\n",
            " is the symbol for U.S. Bancorp\n",
            "UAA\n",
            " is the symbol for Under Armour (Class A)\n",
            "UA\n",
            " is the symbol for Under Armour (Class C)\n",
            "UNP\n",
            " is the symbol for Union Pacific Corp\n",
            "UAL\n",
            " is the symbol for United Airlines Holdings\n",
            "UNH\n",
            " is the symbol for United Health Group Inc.\n",
            "UPS\n",
            " is the symbol for United Parcel Service\n",
            "URI\n",
            " is the symbol for United Rentals, Inc.\n",
            "UHS\n",
            " is the symbol for Universal Health Services, Inc.\n",
            "UNM\n",
            " is the symbol for Unum Group\n",
            "VFC\n",
            " is the symbol for V.F. Corp.\n",
            "VLO\n",
            " is the symbol for Valero Energy\n",
            "VAR\n",
            " is the symbol for Varian Medical Systems\n",
            "VTR\n",
            " is the symbol for Ventas Inc\n",
            "VRSN\n",
            " is the symbol for Verisign Inc.\n",
            "VRSK\n",
            " is the symbol for Verisk Analytics\n",
            "VZ\n",
            " is the symbol for Verizon Communications\n",
            "VRTX\n",
            " is the symbol for Vertex Pharmaceuticals Inc\n",
            "VIAC\n",
            " is the symbol for ViacomCBS\n",
            "V\n",
            " is the symbol for Visa Inc.\n",
            "VNO\n",
            " is the symbol for Vornado Realty Trust\n",
            "VMC\n",
            " is the symbol for Vulcan Materials\n",
            "WRB\n",
            " is the symbol for W. R. Berkley Corporation\n",
            "WAB\n",
            " is the symbol for Wabtec Corporation\n",
            "WMT\n",
            " is the symbol for Walmart\n",
            "WBA\n",
            " is the symbol for Walgreens Boots Alliance\n",
            "DIS\n",
            " is the symbol for The Walt Disney Company\n",
            "WM\n",
            " is the symbol for Waste Management Inc.\n",
            "WAT\n",
            " is the symbol for Waters Corporation\n",
            "WEC\n",
            " is the symbol for WEC Energy Group\n",
            "WFC\n",
            " is the symbol for Wells Fargo\n",
            "WELL\n",
            " is the symbol for Welltower Inc.\n",
            "WST\n",
            " is the symbol for West Pharmaceutical Services\n",
            "WDC\n",
            " is the symbol for Western Digital\n",
            "WU\n",
            " is the symbol for Western Union Co\n",
            "WRK\n",
            " is the symbol for WestRock\n",
            "WY\n",
            " is the symbol for Weyerhaeuser\n",
            "WHR\n",
            " is the symbol for Whirlpool Corp.\n",
            "WMB\n",
            " is the symbol for Williams Cos.\n",
            "WLTW\n",
            " is the symbol for Willis Towers Watson\n",
            "WYNN\n",
            " is the symbol for Wynn Resorts Ltd\n",
            "XEL\n",
            " is the symbol for Xcel Energy Inc\n",
            "XRX\n",
            " is the symbol for Xerox\n",
            "XLNX\n",
            " is the symbol for Xilinx\n",
            "XYL\n",
            " is the symbol for Xylem Inc.\n",
            "YUM\n",
            " is the symbol for Yum! Brands Inc\n",
            "ZBRA\n",
            " is the symbol for Zebra Technologies\n",
            "ZBH\n",
            " is the symbol for Zimmer Biomet Holdings\n",
            "ZION\n",
            " is the symbol for Zions Bancorp\n",
            "ZTS\n",
            " is the symbol for Zoetis\n"
          ],
          "name": "stdout"
        }
      ]
    },
    {
      "cell_type": "code",
      "metadata": {
        "id": "GLVbE5-XfNaw",
        "colab_type": "code",
        "colab": {}
      },
      "source": [
        "if not os.path.exists('stock_data'):\n",
        "    os.makedirs('stock_data')\n",
        "start= dt.datetime(2020,5,1)\n",
        "end= dt.datetime(2020,7,2)"
      ],
      "execution_count": 94,
      "outputs": []
    },
    {
      "cell_type": "code",
      "metadata": {
        "id": "1Cr7iiomgHEq",
        "colab_type": "code",
        "colab": {
          "base_uri": "https://localhost:8080/",
          "height": 34
        },
        "outputId": "ff5e742b-efa1-428a-9ea8-769763ad75a0"
      },
      "source": [
        "x=input(\"Enter the Symbol of company: \")\n",
        "df= web.DataReader(x,'yahoo',start,end)\n",
        "df.to_csv('stock_data/stock.csv')"
      ],
      "execution_count": 95,
      "outputs": [
        {
          "output_type": "stream",
          "text": [
            "Enter the Symbol of company: GOOGL\n"
          ],
          "name": "stdout"
        }
      ]
    },
    {
      "cell_type": "code",
      "metadata": {
        "id": "hj-6jChQgaLQ",
        "colab_type": "code",
        "colab": {}
      },
      "source": [
        "stock= pd.read_csv('stock_data/stock.csv')"
      ],
      "execution_count": 96,
      "outputs": []
    },
    {
      "cell_type": "code",
      "metadata": {
        "id": "p2stKw-FgrPj",
        "colab_type": "code",
        "colab": {
          "base_uri": "https://localhost:8080/",
          "height": 195
        },
        "outputId": "c0be839d-00bc-40c2-f6c9-cb71a25bd402"
      },
      "source": [
        "stock.tail()"
      ],
      "execution_count": 97,
      "outputs": [
        {
          "output_type": "execute_result",
          "data": {
            "text/html": [
              "<div>\n",
              "<style scoped>\n",
              "    .dataframe tbody tr th:only-of-type {\n",
              "        vertical-align: middle;\n",
              "    }\n",
              "\n",
              "    .dataframe tbody tr th {\n",
              "        vertical-align: top;\n",
              "    }\n",
              "\n",
              "    .dataframe thead th {\n",
              "        text-align: right;\n",
              "    }\n",
              "</style>\n",
              "<table border=\"1\" class=\"dataframe\">\n",
              "  <thead>\n",
              "    <tr style=\"text-align: right;\">\n",
              "      <th></th>\n",
              "      <th>Date</th>\n",
              "      <th>High</th>\n",
              "      <th>Low</th>\n",
              "      <th>Open</th>\n",
              "      <th>Close</th>\n",
              "      <th>Volume</th>\n",
              "      <th>Adj Close</th>\n",
              "    </tr>\n",
              "  </thead>\n",
              "  <tbody>\n",
              "    <tr>\n",
              "      <th>39</th>\n",
              "      <td>2020-06-26</td>\n",
              "      <td>1437.02002</td>\n",
              "      <td>1355.000000</td>\n",
              "      <td>1432.630005</td>\n",
              "      <td>1362.540039</td>\n",
              "      <td>4882000</td>\n",
              "      <td>1362.540039</td>\n",
              "    </tr>\n",
              "    <tr>\n",
              "      <th>40</th>\n",
              "      <td>2020-06-29</td>\n",
              "      <td>1398.00000</td>\n",
              "      <td>1351.650024</td>\n",
              "      <td>1360.339966</td>\n",
              "      <td>1397.170044</td>\n",
              "      <td>2253700</td>\n",
              "      <td>1397.170044</td>\n",
              "    </tr>\n",
              "    <tr>\n",
              "      <th>41</th>\n",
              "      <td>2020-06-30</td>\n",
              "      <td>1424.00000</td>\n",
              "      <td>1386.930054</td>\n",
              "      <td>1396.880005</td>\n",
              "      <td>1418.050049</td>\n",
              "      <td>2014300</td>\n",
              "      <td>1418.050049</td>\n",
              "    </tr>\n",
              "    <tr>\n",
              "      <th>42</th>\n",
              "      <td>2020-07-01</td>\n",
              "      <td>1448.47998</td>\n",
              "      <td>1414.180054</td>\n",
              "      <td>1419.170044</td>\n",
              "      <td>1442.000000</td>\n",
              "      <td>2109100</td>\n",
              "      <td>1442.000000</td>\n",
              "    </tr>\n",
              "    <tr>\n",
              "      <th>43</th>\n",
              "      <td>2020-07-02</td>\n",
              "      <td>1488.52002</td>\n",
              "      <td>1451.069946</td>\n",
              "      <td>1451.839966</td>\n",
              "      <td>1469.930054</td>\n",
              "      <td>2860900</td>\n",
              "      <td>1469.930054</td>\n",
              "    </tr>\n",
              "  </tbody>\n",
              "</table>\n",
              "</div>"
            ],
            "text/plain": [
              "          Date        High          Low  ...        Close   Volume    Adj Close\n",
              "39  2020-06-26  1437.02002  1355.000000  ...  1362.540039  4882000  1362.540039\n",
              "40  2020-06-29  1398.00000  1351.650024  ...  1397.170044  2253700  1397.170044\n",
              "41  2020-06-30  1424.00000  1386.930054  ...  1418.050049  2014300  1418.050049\n",
              "42  2020-07-01  1448.47998  1414.180054  ...  1442.000000  2109100  1442.000000\n",
              "43  2020-07-02  1488.52002  1451.069946  ...  1469.930054  2860900  1469.930054\n",
              "\n",
              "[5 rows x 7 columns]"
            ]
          },
          "metadata": {
            "tags": []
          },
          "execution_count": 97
        }
      ]
    },
    {
      "cell_type": "markdown",
      "metadata": {
        "id": "3mLojLE6tkr8",
        "colab_type": "text"
      },
      "source": [
        "**Single Variable Linear Regression**"
      ]
    },
    {
      "cell_type": "code",
      "metadata": {
        "id": "2f2pyfUAg3Lw",
        "colab_type": "code",
        "colab": {}
      },
      "source": [
        "X = stock['Open'].values"
      ],
      "execution_count": 98,
      "outputs": []
    },
    {
      "cell_type": "code",
      "metadata": {
        "id": "e_eMFYP4hALv",
        "colab_type": "code",
        "colab": {}
      },
      "source": [
        "y = stock['Adj Close'].values"
      ],
      "execution_count": 99,
      "outputs": []
    },
    {
      "cell_type": "code",
      "metadata": {
        "id": "IB4_5PWSiVF1",
        "colab_type": "code",
        "colab": {}
      },
      "source": [
        "from sklearn.model_selection import  train_test_split\n",
        "Xtrain,Xtest,ytrain,ytest = train_test_split(X,y,test_size = 0.21, random_state=0)"
      ],
      "execution_count": 100,
      "outputs": []
    },
    {
      "cell_type": "code",
      "metadata": {
        "id": "RG9gbGnmofrj",
        "colab_type": "code",
        "colab": {}
      },
      "source": [
        "def Slope(a,b):\n",
        "  n=len(a)\n",
        "  slope=(n*np.sum(a*b)-np.sum(a)*np.sum(b))/(n*np.sum(a**2)-(np.sum(a))**2)\n",
        "  return slope\n",
        "\n",
        "def Intercept(a,b):\n",
        "  intercept = np.mean(b)-Slope(a,b)*np.mean(a)\n",
        "  return intercept\n",
        "\n",
        "def prediction1(a,b,x):\n",
        "  pred1 = Slope(a,b)*x + Intercept(a,b)\n",
        "  return pred1"
      ],
      "execution_count": 102,
      "outputs": []
    },
    {
      "cell_type": "code",
      "metadata": {
        "id": "E6YJaI5iPCt-",
        "colab_type": "code",
        "colab": {}
      },
      "source": [
        "def R_squared(pred,testing_set):\n",
        "  a=pred\n",
        "  b=testing_set\n",
        "  ss_total=np.sum((b-np.mean(b))**2)\n",
        "  ss_res=np.sum((b-a)**2)\n",
        "  R_2=1-(ss_res/ss_total)\n",
        "  return R_2"
      ],
      "execution_count": 103,
      "outputs": []
    },
    {
      "cell_type": "code",
      "metadata": {
        "id": "2chnRVtsQ_jY",
        "colab_type": "code",
        "colab": {}
      },
      "source": [
        "def Covariance(a,b):\n",
        "  n=len(a)\n",
        "  two_sum=np.mean(a*b)\n",
        "  cov=two_sum/n-np.mean(a)*np.mean(b)\n",
        "  return cov"
      ],
      "execution_count": 104,
      "outputs": []
    },
    {
      "cell_type": "code",
      "metadata": {
        "id": "9wbu9DxtPinu",
        "colab_type": "code",
        "colab": {}
      },
      "source": [
        "def correlation_coeff(pred,testing_set):\n",
        "  a=pred\n",
        "  b=testing_set\n",
        "  n=len(a)\n",
        "  score=(n*np.sum(a*b)-np.sum(a)*np.sum(b))/np.sqrt((n*np.sum(a**2)-(np.sum(a))**2)*(n*np.sum(b**2)-(np.sum(b))**2))\n",
        "  return score"
      ],
      "execution_count": 105,
      "outputs": []
    },
    {
      "cell_type": "code",
      "metadata": {
        "id": "cOfQ9qBqlH5l",
        "colab_type": "code",
        "colab": {
          "base_uri": "https://localhost:8080/",
          "height": 34
        },
        "outputId": "abaf4b54-55a9-47ba-ffb7-cf5ddbd3bcbe"
      },
      "source": [
        "covariance = Covariance(X,y)\n",
        "covariance"
      ],
      "execution_count": 106,
      "outputs": [
        {
          "output_type": "execute_result",
          "data": {
            "text/plain": [
              "-1938852.0815770638"
            ]
          },
          "metadata": {
            "tags": []
          },
          "execution_count": 106
        }
      ]
    },
    {
      "cell_type": "code",
      "metadata": {
        "id": "P1aNvAhuU0KH",
        "colab_type": "code",
        "colab": {
          "base_uri": "https://localhost:8080/",
          "height": 50
        },
        "outputId": "1121ea63-c4a4-4999-a707-49ecd9113c0f"
      },
      "source": [
        "slope=Slope(Xtrain,ytrain)\n",
        "intercept=Intercept(Xtrain,ytrain)\n",
        "print(slope)\n",
        "print(intercept)"
      ],
      "execution_count": 107,
      "outputs": [
        {
          "output_type": "stream",
          "text": [
            "0.8724616348060591\n",
            "181.23056927692028\n"
          ],
          "name": "stdout"
        }
      ]
    },
    {
      "cell_type": "code",
      "metadata": {
        "id": "WjxryaQGU0RZ",
        "colab_type": "code",
        "colab": {
          "base_uri": "https://localhost:8080/",
          "height": 67
        },
        "outputId": "ab8e8f36-bc18-4685-8c6f-7825e4ea58eb"
      },
      "source": [
        "prediction = prediction1(Xtrain,ytrain,Xtest)\n",
        "prediction"
      ],
      "execution_count": 108,
      "outputs": [
        {
          "output_type": "execute_result",
          "data": {
            "text/plain": [
              "array([1393.5072777 , 1457.88625582, 1456.34198168, 1368.92136848,\n",
              "       1357.53570154, 1425.60517533, 1438.47398444, 1369.15684366,\n",
              "       1429.91508468, 1445.42747811])"
            ]
          },
          "metadata": {
            "tags": []
          },
          "execution_count": 108
        }
      ]
    },
    {
      "cell_type": "code",
      "metadata": {
        "id": "YQoeELITg89C",
        "colab_type": "code",
        "colab": {
          "base_uri": "https://localhost:8080/",
          "height": 34
        },
        "outputId": "c8effbae-0399-4862-d134-6a744a47fbcb"
      },
      "source": [
        "r2score = R_squared(prediction,ytest)\n",
        "r2score"
      ],
      "execution_count": 109,
      "outputs": [
        {
          "output_type": "execute_result",
          "data": {
            "text/plain": [
              "0.6232164780141658"
            ]
          },
          "metadata": {
            "tags": []
          },
          "execution_count": 109
        }
      ]
    },
    {
      "cell_type": "code",
      "metadata": {
        "id": "vHj7wNCog_CA",
        "colab_type": "code",
        "colab": {
          "base_uri": "https://localhost:8080/",
          "height": 34
        },
        "outputId": "91ec6267-36a0-47f6-f02a-ad7c86c1a381"
      },
      "source": [
        "corrcoef = correlation_coeff(prediction,ytest)\n",
        "corrcoef"
      ],
      "execution_count": 110,
      "outputs": [
        {
          "output_type": "execute_result",
          "data": {
            "text/plain": [
              "0.8486784101275222"
            ]
          },
          "metadata": {
            "tags": []
          },
          "execution_count": 110
        }
      ]
    },
    {
      "cell_type": "code",
      "metadata": {
        "id": "56Cjm4aRkjbp",
        "colab_type": "code",
        "colab": {}
      },
      "source": [
        "linreg = slope * X + intercept"
      ],
      "execution_count": 111,
      "outputs": []
    },
    {
      "cell_type": "code",
      "metadata": {
        "id": "k4BCi2wHlfS8",
        "colab_type": "code",
        "colab": {
          "base_uri": "https://localhost:8080/",
          "height": 298
        },
        "outputId": "a4035625-e4f8-4196-dab7-dece26cb8e79"
      },
      "source": [
        "plt.scatter(X,y,marker='^',color='k',alpha=0.55)\n",
        "plt.plot(X,linreg,color='R',linewidth=2)\n",
        "plt.title('Single Variable Linear Regression')"
      ],
      "execution_count": 112,
      "outputs": [
        {
          "output_type": "execute_result",
          "data": {
            "text/plain": [
              "Text(0.5, 1.0, 'Single Variable Linear Regression')"
            ]
          },
          "metadata": {
            "tags": []
          },
          "execution_count": 112
        },
        {
          "output_type": "display_data",
          "data": {
            "image/png": "[encoded data removed]",
            "text/plain": [
              "<Figure size 432x288 with 1 Axes>"
            ]
          },
          "metadata": {
            "tags": [],
            "needs_background": "light"
          }
        }
      ]
    },
    {
      "cell_type": "markdown",
      "metadata": {
        "id": "SttJMdFZtxld",
        "colab_type": "text"
      },
      "source": [
        "**Multi Variable Linear Regression**"
      ]
    },
    {
      "cell_type": "code",
      "metadata": {
        "id": "2XxW2gLqnVKc",
        "colab_type": "code",
        "colab": {}
      },
      "source": [
        "X1 = stock['Open'].values\n",
        "train_size = int(0.78 * len(df))\n",
        "X1train = X1[:train_size]\n",
        "X1test = X1[train_size:]"
      ],
      "execution_count": 113,
      "outputs": []
    },
    {
      "cell_type": "code",
      "metadata": {
        "id": "FraWzCtOnWVg",
        "colab_type": "code",
        "colab": {
          "base_uri": "https://localhost:8080/",
          "height": 34
        },
        "outputId": "668e1fd8-e1c8-406b-fe4d-e0e2d3053a56"
      },
      "source": [
        "X2 = stock['High'].values\n",
        "train_size = int(0.79 * len(df))\n",
        "X2train = X2[:train_size]\n",
        "X2test = X2[train_size:]\n",
        "len(X2test)"
      ],
      "execution_count": 114,
      "outputs": [
        {
          "output_type": "execute_result",
          "data": {
            "text/plain": [
              "10"
            ]
          },
          "metadata": {
            "tags": []
          },
          "execution_count": 114
        }
      ]
    },
    {
      "cell_type": "code",
      "metadata": {
        "id": "kqqpSrIPnWYh",
        "colab_type": "code",
        "colab": {
          "base_uri": "https://localhost:8080/",
          "height": 34
        },
        "outputId": "536dfe8e-7566-426f-936e-6de8fe166c10"
      },
      "source": [
        "y = stock['Adj Close'].values\n",
        "train_size = int(0.79 * len(df))\n",
        "ytrain = y[:train_size]\n",
        "ytest = y[train_size:]\n",
        "len(ytest)"
      ],
      "execution_count": 115,
      "outputs": [
        {
          "output_type": "execute_result",
          "data": {
            "text/plain": [
              "10"
            ]
          },
          "metadata": {
            "tags": []
          },
          "execution_count": 115
        }
      ]
    },
    {
      "cell_type": "code",
      "metadata": {
        "id": "6yKN05N4pdFF",
        "colab_type": "code",
        "colab": {}
      },
      "source": [
        "def Slope1(a1,a2,b):\n",
        "  n = len(a1)\n",
        "  numerator1 = ((n*np.sum(a2**2)) - (np.sum(a2)**2)) * ((n*np.sum(a1*b)) - (np.sum(a1)*np.sum(b)))\n",
        "  numerator2 = ((n*np.sum(a1*a2)) - (np.sum(a1)*np.sum(a2))) * ((n*np.sum(a2*b)) - (np.sum(a2)*np.sum(b)))\n",
        "\n",
        "  denominator1 = ((n*np.sum(a1**2)) - (np.sum(a1)**2)) * ((n*np.sum(a2**2)) - (np.sum(a2)**2))\n",
        "  denominator2 = ((n*np.sum(a1*a2)) - (np.sum(a1)*np.sum(a2)))**2\n",
        "  \n",
        "  slope1 = (numerator1 - numerator2) / (denominator1 - denominator2)\n",
        "  return slope1 "
      ],
      "execution_count": 116,
      "outputs": []
    },
    {
      "cell_type": "code",
      "metadata": {
        "id": "EPij_CEP8lAW",
        "colab_type": "code",
        "colab": {}
      },
      "source": [
        "def Slope2(a1,a2,b):\n",
        "  n = len(a1)\n",
        "  numerator1 = ((n*np.sum(a1**2)) - (np.sum(a1)**2)) * ((n*np.sum(a2*b)) - (np.sum(a2)*np.sum(b)))\n",
        "  numerator2 = ((n*np.sum(a1*a2)) - (np.sum(a1)*np.sum(a2))) * ((n*np.sum(a1*b)) - (np.sum(a1)*np.sum(b)))\n",
        "\n",
        "  denominator1 = ((n*np.sum(a1**2)) - (np.sum(a1)**2)) * ((n*np.sum(a2**2)) - (np.sum(a2)**2))\n",
        "  denominator2 = ((n*np.sum(a1*a2)) - (np.sum(a1)*np.sum(a2)))**2\n",
        "  \n",
        "  slope2 = (numerator1 - numerator2) / (denominator1 - denominator2)\n",
        "  return slope2 "
      ],
      "execution_count": 117,
      "outputs": []
    },
    {
      "cell_type": "code",
      "metadata": {
        "id": "fxcSBwV_raPJ",
        "colab_type": "code",
        "colab": {}
      },
      "source": [
        "def Intercept2(a1,a2,b):\n",
        "  intercept2 = np.mean(b)-Slope1(a1,a2,b)*np.mean(a1) - Slope2(a1,a2,b)*np.mean(a2)\n",
        "  return intercept2"
      ],
      "execution_count": 118,
      "outputs": []
    },
    {
      "cell_type": "code",
      "metadata": {
        "id": "-nfjVHgVssd6",
        "colab_type": "code",
        "colab": {}
      },
      "source": [
        "def prediction2(a1,a2,b,x1,x2):\n",
        "  pred2 = Slope1(a1,a2,b)*x1 + Slope2(a1,a2,b)*x2 + Intercept2(a1,a2,b)\n",
        "  return pred2"
      ],
      "execution_count": 119,
      "outputs": []
    },
    {
      "cell_type": "code",
      "metadata": {
        "id": "unq957Q_JAAb",
        "colab_type": "code",
        "colab": {}
      },
      "source": [
        "def R_squared(pred,testing_set):\n",
        "  a=pred\n",
        "  b=testing_set\n",
        "  ss_total=np.sum((b-np.mean(b))**2)\n",
        "  ss_res=np.sum((b-a)**2)\n",
        "  R_2=1-(ss_res/ss_total)\n",
        "  return R_2"
      ],
      "execution_count": 120,
      "outputs": []
    },
    {
      "cell_type": "code",
      "metadata": {
        "id": "BcHWmF53mJMo",
        "colab_type": "code",
        "colab": {}
      },
      "source": [
        "def correlation_coeff(pred,testing_set):\n",
        "  a=pred\n",
        "  b=testing_set\n",
        "  n=len(a)\n",
        "  score=(n*np.sum(a*b)-np.sum(a)*np.sum(b))/np.sqrt((n*np.sum(a**2)-(np.sum(a))**2)*(n*np.sum(b**2)-(np.sum(b))**2))\n",
        "  return score"
      ],
      "execution_count": 121,
      "outputs": []
    },
    {
      "cell_type": "code",
      "metadata": {
        "id": "6r6K9hJWm2SD",
        "colab_type": "code",
        "colab": {}
      },
      "source": [
        "slope1 = Slope1(X1train,X2train,ytrain)\n",
        "slope2 = Slope2(X1train,X2train,ytrain)"
      ],
      "execution_count": 122,
      "outputs": []
    },
    {
      "cell_type": "code",
      "metadata": {
        "id": "ycrrb5wVn3Rd",
        "colab_type": "code",
        "colab": {
          "base_uri": "https://localhost:8080/",
          "height": 34
        },
        "outputId": "d16ae2af-453e-4591-9380-da42740cf3a9"
      },
      "source": [
        "intercept = Intercept2(X1train,X2train,ytrain)\n",
        "intercept"
      ],
      "execution_count": 123,
      "outputs": [
        {
          "output_type": "execute_result",
          "data": {
            "text/plain": [
              "-29.32605353899976"
            ]
          },
          "metadata": {
            "tags": []
          },
          "execution_count": 123
        }
      ]
    },
    {
      "cell_type": "code",
      "metadata": {
        "id": "JYQjkHwkvsAP",
        "colab_type": "code",
        "colab": {
          "base_uri": "https://localhost:8080/",
          "height": 67
        },
        "outputId": "f3b9053e-083c-4fab-8ba1-5c15e3d9d604"
      },
      "source": [
        "prediction= prediction2(X1train,X2train,ytrain,X1test,X2test)\n",
        "prediction"
      ],
      "execution_count": 124,
      "outputs": [
        {
          "output_type": "execute_result",
          "data": {
            "text/plain": [
              "array([1428.21096808, 1438.90931837, 1462.82740175, 1461.33127154,\n",
              "       1427.30366558, 1420.64652155, 1387.80645143, 1411.963404  ,\n",
              "       1437.07780479, 1478.89657026])"
            ]
          },
          "metadata": {
            "tags": []
          },
          "execution_count": 124
        }
      ]
    },
    {
      "cell_type": "code",
      "metadata": {
        "id": "6TP0keLGzZfL",
        "colab_type": "code",
        "colab": {
          "base_uri": "https://localhost:8080/",
          "height": 34
        },
        "outputId": "0608e221-e90c-4b37-f605-2bc06853f52b"
      },
      "source": [
        "r2score2 = R_squared(prediction,ytest)\n",
        "r2score2"
      ],
      "execution_count": 125,
      "outputs": [
        {
          "output_type": "execute_result",
          "data": {
            "text/plain": [
              "0.4845333010038645"
            ]
          },
          "metadata": {
            "tags": []
          },
          "execution_count": 125
        }
      ]
    },
    {
      "cell_type": "code",
      "metadata": {
        "id": "iXWGzV4J20ck",
        "colab_type": "code",
        "colab": {
          "base_uri": "https://localhost:8080/",
          "height": 34
        },
        "outputId": "149c2718-726c-42d7-de81-cd647e16589f"
      },
      "source": [
        "correcoef2 = correlation_coeff(prediction,ytest)\n",
        "correcoef2"
      ],
      "execution_count": 126,
      "outputs": [
        {
          "output_type": "execute_result",
          "data": {
            "text/plain": [
              "0.7255537139363231"
            ]
          },
          "metadata": {
            "tags": []
          },
          "execution_count": 126
        }
      ]
    },
    {
      "cell_type": "code",
      "metadata": {
        "id": "XAz2jTzXAeZX",
        "colab_type": "code",
        "colab": {}
      },
      "source": [
        "linreg = slope1*X1  +slope2*X2+ intercept"
      ],
      "execution_count": 127,
      "outputs": []
    },
    {
      "cell_type": "code",
      "metadata": {
        "id": "4S7td44Z5gsD",
        "colab_type": "code",
        "colab": {
          "base_uri": "https://localhost:8080/",
          "height": 248
        },
        "outputId": "6f28c564-deb6-4873-9ed2-cc50780916a6"
      },
      "source": [
        "from mpl_toolkits.mplot3d import Axes3D\n",
        "fig = plt.figure(2)\n",
        "ax = fig.add_subplot(111, projection='3d')\n",
        "ax.scatter(X1, X2, y, c='r', marker='^')\n",
        "ax.scatter(X1,X2,linreg,c='blue',marker ='o')\n",
        "ax.set_xlabel('Open')\n",
        "ax.set_ylabel('High')\n",
        "ax.set_zlabel('Adj Close')\n",
        "\n",
        "plt.show()"
      ],
      "execution_count": 128,
      "outputs": [
        {
          "output_type": "display_data",
          "data": {
            "image/png": "[encoded data removed]",
            "text/plain": [
              "<Figure size 432x288 with 1 Axes>"
            ]
          },
          "metadata": {
            "tags": [],
            "needs_background": "light"
          }
        }
      ]
    },
    {
      "cell_type": "code",
      "metadata": {
        "id": "03cU94ee9p_y",
        "colab_type": "code",
        "colab": {}
      },
      "source": [
        ""
      ],
      "execution_count": null,
      "outputs": []
    }
  ]
}